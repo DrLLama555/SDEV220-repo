{
 "cells": [
  {
   "cell_type": "code",
   "execution_count": null,
   "id": "d662459e-30e1-452c-9106-cdf22be2538e",
   "metadata": {},
   "outputs": [],
   "source": [
    "from sqlalchemy import create_engine, select, Table, MetaData\n",
    "\n",
    "# Create an engine to connect to the SQLite database (books.db)\n",
    "engine = create_engine('sqlite:///books.db')\n",
    "\n",
    "# Create a MetaData instance\n",
    "metadata = MetaData()\n",
    "\n",
    "# Reflect the books table\n",
    "books_table = Table('book', metadata, autoload_with=engine)\n",
    "\n",
    "# Create a query to select the title column, ordered alphabetically\n",
    "query = select(books_table.c.title).order_by(books_table.c.title)\n",
    "\n",
    "# Connect to the database and execute the query\n",
    "with engine.connect() as connection:\n",
    "    result = connection.execute(query)\n",
    "    \n",
    "    # Print the titles\n",
    "    for row in result:\n",
    "        print(row.title)"
   ]
  },
  {
   "cell_type": "code",
   "execution_count": null,
   "id": "17478a0d-07f0-4559-97a6-6b314ae75899",
   "metadata": {},
   "outputs": [],
   "source": [
    "# zoo.py\n",
    "\n",
    "def hours():\n",
    "    print('Open 9-5 daily')\n"
   ]
  }
 ],
 "metadata": {
  "kernelspec": {
   "display_name": "",
   "name": ""
  },
  "language_info": {
   "name": ""
  }
 },
 "nbformat": 4,
 "nbformat_minor": 5
}
