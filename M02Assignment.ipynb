{
 "cells": [
  {
   "cell_type": "code",
   "execution_count": null,
   "id": "316cb67c-94cc-48c7-9a4a-434cd9cd6ab8",
   "metadata": {},
   "outputs": [],
   "source": [
    "# Select a secret number and a guess\n",
    "secret = 7  # You can choose any number between 1 and 10\n",
    "guess = 5   # You can also choose any number between 1 and 10\n",
    "\n",
    "# Conditional tests\n",
    "if guess < secret:\n",
    "    print('too low')\n",
    "elif guess > secret:\n",
    "    print('too high')\n",
    "else:\n",
    "    print('just right')"
   ]
  },
  {
   "cell_type": "code",
   "execution_count": null,
   "id": "0234ebb5-e8b5-4af4-a5e4-8955bec9a7ff",
   "metadata": {},
   "outputs": [],
   "source": [
    "# Assigning values to small and green\n",
    "small = True\n",
    "green = False\n",
    "\n",
    "# Determining the type of fruit\n",
    "if small and green:\n",
    "    print('cherry')\n",
    "elif small and not green:\n",
    "    print('pea')\n",
    "elif not small and green:\n",
    "    print('watermelon')\n",
    "else:\n",
    "    print('pumpkin')"
   ]
  },
  {
   "cell_type": "code",
   "execution_count": null,
   "id": "b69a980b-15dc-412b-8222-102dbc9a3360",
   "metadata": {},
   "outputs": [],
   "source": [
    "# Using a for loop to print the values of the list\n",
    "for value in [3, 2, 1, 0]:\n",
    "    print(value) "
   ]
  },
  {
   "cell_type": "code",
   "execution_count": null,
   "id": "ad22567a-b8b1-4ba7-8a51-ce8a1306c015",
   "metadata": {},
   "outputs": [],
   "source": [
    "# Assign values for guess_me and number\n",
    "guess_me = 7\n",
    "number = 1\n",
    "\n",
    "# While loop that compares number with guess_me\n",
    "while True:\n",
    "    if number < guess_me:\n",
    "        print('too low')\n",
    "    elif number == guess_me:\n",
    "        print('found it!')\n",
    "        break\n",
    "    else:\n",
    "        print('oops')\n",
    "        break\n",
    "    number += 1  # Increment number at the end of the loop"
   ]
  },
  {
   "cell_type": "code",
   "execution_count": null,
   "id": "9e083305-2cf2-4cb7-a600-d12f6db3539c",
   "metadata": {},
   "outputs": [],
   "source": [
    "# Assign value for guess_me\n",
    "guess_me = 5\n",
    "\n",
    "# For loop to iterate over range\n",
    "for number in range(10):\n",
    "    if number < guess_me:\n",
    "        print('too low')\n",
    "    elif number == guess_me:\n",
    "        print('found it!')\n",
    "        break\n",
    "    else:\n",
    "        print('oops')\n",
    "        break"
   ]
  }
 ],
 "metadata": {
  "kernelspec": {
   "display_name": "",
   "name": ""
  },
  "language_info": {
   "name": ""
  }
 },
 "nbformat": 4,
 "nbformat_minor": 5
}
