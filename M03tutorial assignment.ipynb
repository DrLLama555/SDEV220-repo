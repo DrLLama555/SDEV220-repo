{
 "cells": [
  {
   "cell_type": "code",
   "execution_count": null,
   "id": "b9a5131e-5ab7-436a-a2f1-e8200aef3d51",
   "metadata": {},
   "outputs": [],
   "source": [
    "class Solution:\n",
    "    # Function to sort an array of 0s, 1s, and 2s\n",
    "    def sort012(self, arr):\n",
    "        low = 0          # Pointer for the next position of 0\n",
    "        mid = 0          # Pointer for the current element\n",
    "        high = len(arr) - 1  # Pointer for the next position of 2\n",
    "        \n",
    "        while mid <= high:\n",
    "            if arr[mid] == 0:\n",
    "                arr[low], arr[mid] = arr[mid], arr[low]  # Swap 0 to the low pointer\n",
    "                low += 1\n",
    "                mid += 1\n",
    "            elif arr[mid] == 1:\n",
    "                mid += 1  # Move the mid pointer\n",
    "            else:  # arr[mid] == 2\n",
    "                arr[mid], arr[high] = arr[high], arr[mid]  # Swap 2 to the high pointer\n",
    "                high -= 1\n",
    "            \n",
    "        return arr  # Optional: return the sorted array"
   ]
  },
  {
   "cell_type": "code",
   "execution_count": null,
   "id": "fa4f7161-be4d-4de0-be6d-8befa48e47be",
   "metadata": {},
   "outputs": [],
   "source": []
  }
 ],
 "metadata": {
  "kernelspec": {
   "display_name": "",
   "name": ""
  },
  "language_info": {
   "name": ""
  }
 },
 "nbformat": 4,
 "nbformat_minor": 5
}
